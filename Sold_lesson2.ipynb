{
 "cells": [
  {
   "cell_type": "code",
   "execution_count": 19,
   "metadata": {},
   "outputs": [],
   "source": [
    "def mult_matrix(A: list, B: list):\n",
    "    n1 = len(A)\n",
    "    try:\n",
    "        m1 = len(B[0])\n",
    "    except:\n",
    "        m1 = 1\n",
    "\n",
    "    n2 = len(B)\n",
    "    try:\n",
    "        m2 = len(B[0])\n",
    "    except:\n",
    "        m2 = 1\n",
    "#     Проверяем размерность\n",
    "    if m1 != n2:\n",
    "        print('Матрицы нельзя умножить')\n",
    "    else:\n",
    "#       создаем матрицу n1 x m2\n",
    "        C = [[0 for j in range(m2)] for i in range(n1)]\n",
    "        for i in range(n1):\n",
    "            for j in range(m2):\n",
    "                summ = 0\n",
    "                for i1 in range(n2):\n",
    "                    for j1 in range(m1):\n",
    "                        summ += A[i][j1] * B[i1][j]\n",
    "                C[i][j] = summ\n",
    "    return C          "
   ]
  },
  {
   "cell_type": "code",
   "execution_count": 20,
   "metadata": {},
   "outputs": [
    {
     "name": "stdout",
     "output_type": "stream",
     "text": [
      "[[9, 12], [9, 12], [9, 12]]\n"
     ]
    }
   ],
   "source": [
    "A = [[1, 2], [1, 2], [1, 2]]\n",
    "B = [[1, 2], [2, 2]]\n",
    "print(mult_matrix(A, B))"
   ]
  },
  {
   "cell_type": "code",
   "execution_count": null,
   "metadata": {},
   "outputs": [],
   "source": []
  }
 ],
 "metadata": {
  "kernelspec": {
   "display_name": "Python 3",
   "language": "python",
   "name": "python3"
  },
  "language_info": {
   "codemirror_mode": {
    "name": "ipython",
    "version": 3
   },
   "file_extension": ".py",
   "mimetype": "text/x-python",
   "name": "python",
   "nbconvert_exporter": "python",
   "pygments_lexer": "ipython3",
   "version": "3.8.5"
  }
 },
 "nbformat": 4,
 "nbformat_minor": 4
}
